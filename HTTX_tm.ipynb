{
 "cells": [
  {
   "cell_type": "code",
   "execution_count": 1,
   "metadata": {},
   "outputs": [],
   "source": [
    "import pandas as pd\n",
    "import numpy as np\n",
    "import gensim\n",
    "import spacy\n",
    "from matplotlib import pyplot as plt\n",
    "from matplotlib.cm import get_cmap\n",
    "from time import time\n",
    "from sklearn.feature_extraction.text import CountVectorizer\n",
    "from sklearn.decomposition import LatentDirichletAllocation\n",
    "from sklearn.manifold import TSNE\n",
    "from sklearn.preprocessing import OrdinalEncoder\n",
    "from sklearn.pipeline import Pipeline\n",
    "%matplotlib inline"
   ]
  },
  {
   "cell_type": "code",
   "execution_count": 2,
   "metadata": {},
   "outputs": [
    {
     "name": "stdout",
     "output_type": "stream",
     "text": [
      "Loading dataset...\n",
      "done in 1.203s.\n"
     ]
    }
   ],
   "source": [
    "from sklearn.datasets import fetch_20newsgroups\n",
    "print(\"Loading dataset...\")\n",
    "t0 = time()\n",
    "dataset = fetch_20newsgroups(shuffle=True, random_state=1, remove=('headers', 'footers', 'quotes'))\n",
    "print(\"done in %0.3fs.\" % (time() - t0))"
   ]
  },
  {
   "cell_type": "code",
   "execution_count": 3,
   "metadata": {},
   "outputs": [
    {
     "name": "stdout",
     "output_type": "stream",
     "text": [
      "<class 'pandas.core.frame.DataFrame'>\n",
      "RangeIndex: 2000 entries, 0 to 1999\n",
      "Data columns (total 1 columns):\n",
      "text    2000 non-null object\n",
      "dtypes: object(1)\n",
      "memory usage: 15.8+ KB\n"
     ]
    }
   ],
   "source": [
    "data = pd.DataFrame({'text': dataset.data[:2000]})\n",
    "data.info()"
   ]
  },
  {
   "cell_type": "code",
   "execution_count": 4,
   "metadata": {},
   "outputs": [
    {
     "data": {
      "text/html": [
       "<div>\n",
       "<style scoped>\n",
       "    .dataframe tbody tr th:only-of-type {\n",
       "        vertical-align: middle;\n",
       "    }\n",
       "\n",
       "    .dataframe tbody tr th {\n",
       "        vertical-align: top;\n",
       "    }\n",
       "\n",
       "    .dataframe thead th {\n",
       "        text-align: right;\n",
       "    }\n",
       "</style>\n",
       "<table border=\"1\" class=\"dataframe\">\n",
       "  <thead>\n",
       "    <tr style=\"text-align: right;\">\n",
       "      <th></th>\n",
       "      <th>text</th>\n",
       "    </tr>\n",
       "  </thead>\n",
       "  <tbody>\n",
       "    <tr>\n",
       "      <th>0</th>\n",
       "      <td>Well i'm not sure about the story nad it did s...</td>\n",
       "    </tr>\n",
       "    <tr>\n",
       "      <th>1</th>\n",
       "      <td>\\n\\n\\n\\n\\n\\n\\nYeah, do you expect people to re...</td>\n",
       "    </tr>\n",
       "    <tr>\n",
       "      <th>2</th>\n",
       "      <td>Although I realize that principle is not one o...</td>\n",
       "    </tr>\n",
       "    <tr>\n",
       "      <th>3</th>\n",
       "      <td>Notwithstanding all the legitimate fuss about ...</td>\n",
       "    </tr>\n",
       "    <tr>\n",
       "      <th>4</th>\n",
       "      <td>Well, I will have to change the scoring on my ...</td>\n",
       "    </tr>\n",
       "    <tr>\n",
       "      <th>...</th>\n",
       "      <td>...</td>\n",
       "    </tr>\n",
       "    <tr>\n",
       "      <th>1995</th>\n",
       "      <td>\\nHi...\\n\\n\\tTHe best sound conversion program...</td>\n",
       "    </tr>\n",
       "    <tr>\n",
       "      <th>1996</th>\n",
       "      <td>I guess Hasan finally revealed the source of h...</td>\n",
       "    </tr>\n",
       "    <tr>\n",
       "      <th>1997</th>\n",
       "      <td>\\n\\nFrom a recent BYTE magazine i got the foll...</td>\n",
       "    </tr>\n",
       "    <tr>\n",
       "      <th>1998</th>\n",
       "      <td>Heres the life of St. MAria Goretti, posted wi...</td>\n",
       "    </tr>\n",
       "    <tr>\n",
       "      <th>1999</th>\n",
       "      <td>\\n\\n\\nNeither did he!\\n\\n\\nOverall?  How do yo...</td>\n",
       "    </tr>\n",
       "  </tbody>\n",
       "</table>\n",
       "<p>2000 rows × 1 columns</p>\n",
       "</div>"
      ],
      "text/plain": [
       "                                                   text\n",
       "0     Well i'm not sure about the story nad it did s...\n",
       "1     \\n\\n\\n\\n\\n\\n\\nYeah, do you expect people to re...\n",
       "2     Although I realize that principle is not one o...\n",
       "3     Notwithstanding all the legitimate fuss about ...\n",
       "4     Well, I will have to change the scoring on my ...\n",
       "...                                                 ...\n",
       "1995  \\nHi...\\n\\n\\tTHe best sound conversion program...\n",
       "1996  I guess Hasan finally revealed the source of h...\n",
       "1997  \\n\\nFrom a recent BYTE magazine i got the foll...\n",
       "1998  Heres the life of St. MAria Goretti, posted wi...\n",
       "1999  \\n\\n\\nNeither did he!\\n\\n\\nOverall?  How do yo...\n",
       "\n",
       "[2000 rows x 1 columns]"
      ]
     },
     "execution_count": 4,
     "metadata": {},
     "output_type": "execute_result"
    }
   ],
   "source": [
    "data"
   ]
  },
  {
   "cell_type": "code",
   "execution_count": 5,
   "metadata": {},
   "outputs": [
    {
     "data": {
      "text/plain": [
       "'op that worked was the \"Macintosh\\r|> >Software\" loop (whatever that means).\\r|> \\r|> I doubt this is a Quadra-specific problem.  I had to get\\r|> rid of my \"venerable\" Bernoulli 20 last year (with enough \\r|> cartridges purchased at ~$90 each to make the whole thing \\r|> worth more than my whole computer ;).  The tech support guys\\r|> at Ocean Microsystems suggested that some third-party drivers \\r|> might fix the problem - in my case the cartridges wouldn\\'t \\r|> format/mount/partition for A/UX.  \\r\\nhat the Megadrives worked perfectly on both my\\rMac Plus and my Powerbook 140.  It was for this reason I assumed\\rthe problem had something to do with the Quadra.  Even with the\\rQuadra, they mostly worked OK.  The problem occurred when I ejected\\ra cartridge from a drive: it would start popping up dialog boxes\\rsaying \"This cartridge must be formatted with Jasmine Driveware\"\\reven though there was no cartridge in the drive.\\r\\r\\t--Mark\\r\\nt to format) I have this confirmed from Apple Computer in Sweden (I work for a Apple dealer as a service tech). We had problems that Quadras wanted to format a diskette or a Syquest when ther was nothing in the drive. This problem was fixed sytem 7.1\\r\\rMikael Fredriksson\\r\\r-------------------------------------------------\\remail: mikael_fredriksson@macexchange.se\\r\\rMac Exchange BBS\\rPL 3813\\rS-437 92 Lindome\\rSweden\\rBBS +46-31-948290 (5 lines)\\rFAX +46-31-948294\\rFIDO 2:203/211\\r  \\n<Disclaimer: Mac Exchange BBS cannot be held responsible for the contents of this message>\\r\\n'"
      ]
     },
     "execution_count": 5,
     "metadata": {},
     "output_type": "execute_result"
    }
   ],
   "source": [
    "example_text_idx = 260\n",
    "example_text = data['text'].iloc[example_text_idx]\n",
    "example_text"
   ]
  },
  {
   "cell_type": "code",
   "execution_count": 22,
   "metadata": {},
   "outputs": [],
   "source": [
    "data['Word length'] = data['text'].apply(lambda t: len(t.split()))"
   ]
  },
  {
   "cell_type": "code",
   "execution_count": 23,
   "metadata": {},
   "outputs": [
    {
     "data": {
      "text/plain": [
       "<matplotlib.axes._subplots.AxesSubplot at 0x7f19ef456c10>"
      ]
     },
     "execution_count": 23,
     "metadata": {},
     "output_type": "execute_result"
    },
    {
     "data": {
      "image/png": "[encoded data removed]",
      "text/plain": [
       "<Figure size 936x576 with 1 Axes>"
      ]
     },
     "metadata": {
      "needs_background": "light"
     },
     "output_type": "display_data"
    }
   ],
   "source": [
    "data['Word length'].hist(bins=100, figsize=(13,8))"
   ]
  },
  {
   "cell_type": "code",
   "execution_count": 27,
   "metadata": {},
   "outputs": [
    {
     "data": {
      "text/plain": [
       "count     2000.000000\n",
       "mean       179.954000\n",
       "std        433.351931\n",
       "min          0.000000\n",
       "0%           0.000000\n",
       "5%           9.000000\n",
       "10%         19.000000\n",
       "15%         26.000000\n",
       "20%         34.000000\n",
       "25%         41.000000\n",
       "30%         49.000000\n",
       "35%         56.000000\n",
       "40%         65.000000\n",
       "45%         75.000000\n",
       "50%         87.000000\n",
       "55%        100.000000\n",
       "60%        114.000000\n",
       "65%        130.000000\n",
       "70%        151.000000\n",
       "75%        176.000000\n",
       "80%        210.000000\n",
       "85%        248.000000\n",
       "90%        344.000000\n",
       "95%        583.150000\n",
       "100%     10297.000000\n",
       "max      10297.000000\n",
       "Name: Word length, dtype: float64"
      ]
     },
     "execution_count": 27,
     "metadata": {},
     "output_type": "execute_result"
    }
   ],
   "source": [
    "data['Word length'].describe(percentiles=np.arange(0,1.01,0.05))"
   ]
  },
  {
   "cell_type": "code",
   "execution_count": 6,
   "metadata": {},
   "outputs": [],
   "source": [
    "#Uncomment and run the next line if it is the first time loading the language model, as it needs to be downloaded and installed once\n",
    "#!python -m spacy download en_core_web_lg"
   ]
  },
  {
   "cell_type": "code",
   "execution_count": 7,
   "metadata": {},
   "outputs": [],
   "source": [
    "nlp = spacy.load('en_core_web_lg')"
   ]
  },
  {
   "cell_type": "code",
   "execution_count": 8,
   "metadata": {},
   "outputs": [],
   "source": [
    "data['spacy_doc'] = data['text'].apply(nlp)"
   ]
  },
  {
   "cell_type": "code",
   "execution_count": 9,
   "metadata": {},
   "outputs": [
    {
     "data": {
      "text/plain": [
       "op that worked was the \"Macintosh\n",
       "|> >Software\" loop (whatever that means).\n",
       "|> \n",
       "|> I doubt this is a Quadra-specific problem.  I had to get\n",
       "|> rid of my \"venerable\" Bernoulli 20 last year (with enough \n",
       "|> cartridges purchased at ~$90 each to make the whole thing \n",
       "|> worth more than my whole computer ;).  The tech support guys\n",
       "|> at Ocean Microsystems suggested that some third-party drivers \n",
       "|> might fix the problem - in my case the cartridges wouldn't \n",
       "|> format/mount/partition for A/UX.  \n",
       "hat the Megadrives worked perfectly on both my\n",
       "Mac Plus and my Powerbook 140.  It was for this reason I assumed\n",
       "the problem had something to do with the Quadra.  Even with the\n",
       "Quadra, they mostly worked OK.  The problem occurred when I ejected\n",
       "a cartridge from a drive: it would start popping up dialog boxes\n",
       "saying \"This cartridge must be formatted with Jasmine Driveware\"\n",
       "even though there was no cartridge in the drive.\n",
       "\n",
       "\t--Mark\n",
       "t to format) I have this confirmed from Apple Computer in Sweden (I work for a Apple dealer as a service tech). We had problems that Quadras wanted to format a diskette or a Syquest when ther was nothing in the drive. This problem was fixed sytem 7.1\n",
       "\n",
       "Mikael Fredriksson\n",
       "\n",
       "-------------------------------------------------\n",
       "email: mikael_fredriksson@macexchange.se\n",
       "\n",
       "Mac Exchange BBS\n",
       "PL 3813\n",
       "S-437 92 Lindome\n",
       "Sweden\n",
       "BBS +46-31-948290 (5 lines)\n",
       "FAX +46-31-948294\n",
       "FIDO 2:203/211\n",
       "  \n",
       "<Disclaimer: Mac Exchange BBS cannot be held responsible for the contents of this message>"
      ]
     },
     "execution_count": 9,
     "metadata": {},
     "output_type": "execute_result"
    }
   ],
   "source": [
    "data['spacy_doc'].iloc[example_text_idx]"
   ]
  },
  {
   "cell_type": "code",
   "execution_count": 10,
   "metadata": {},
   "outputs": [],
   "source": [
    "def lemmantizing(docs, allowed_postags=['PROPN', 'NOUN', 'ADJ', 'VERB', 'ADV']):\n",
    "    result = []\n",
    "    for doc in docs:\n",
    "        filtered_lemmas = [\n",
    "            token.lemma_ for token in doc\n",
    "            if (token.pos_ in allowed_postags) and (token.lemma_ not in ['̣-PRON-']) and (not token.is_stop)\n",
    "        ]\n",
    "        result.append(filtered_lemmas)\n",
    "    return pd.Series(result)"
   ]
  },
  {
   "cell_type": "code",
   "execution_count": 11,
   "metadata": {},
   "outputs": [
    {
     "name": "stdout",
     "output_type": "stream",
     "text": [
      "['op', 'that', 'work', 'be', 'macintosh', '|', 'software', 'loop', 'whatev', 'mean', '|', '>', '|', 'doubt', 'be', 'quadra', 'specific', 'problem', 'have', 'get', '|', 'rid', '-PRON-', 'venerable', 'bernoulli', 'last', 'year', 'enough', '|', 'cartridge', 'purchase', 'make', 'whole', 'thing', '|', 'worth', 'more', '-PRON-', 'whole', 'computer', 'tech', 'support', 'guy', '|', 'ocean', 'microsystems', 'suggest', 'third', 'party', 'driver', '|', 'may', 'fix', 'problem', '-PRON-', 'case', 'cartridge', 'would', 'not', '|', 'format', 'mount', 'partition', 'a', 'ux', 'hat', 'megadrives', 'work', 'perfectly', '-PRON-', 'mac', 'plus', '-PRON-', 'powerbook', 'be', 'reason', 'assume', 'problem', 'have', 'something', 'do', 'quadra', 'even', 'quadra', 'mostly', 'work', 'problem', 'occur', 'when', 'eject', 'cartridge', 'drive', 'would', 'start', 'pop', 'dialog', 'box', 'say', 'cartridge', 'must', 'be', 'format', 'jasmine', 'driveware', 'even', 'there', 'be', 'cartridge', 'drive', 't', 'format', 'have', 'confirm', 'apple', 'computer', 'sweden', 'work', 'apple', 'dealer', 'service', 'tech', 'have', 'problem', 'that', 'quadras', 'want', 'format', 'diskette', 'syqu', 'when', 'be', 'nothing', 'drive', 'problem', 'be', 'fix', 'sytem', 'mikael', 'fredriksson', 'email', 'mikael_fredriksson@macexchange.se', 'mac', 'exchange', 'bbs', 'pl', 's-437', 'lindome', 'sweden', 'bbs', 'line', 'fax', 'fido', 'disclaimer', 'mac', 'exchange', 'bbs', 'can', 'not', 'be', 'hold', 'responsible', 'content', 'message']\n"
     ]
    }
   ],
   "source": [
    "text_lemmantized = lemmantizing(data['spacy_doc'])\n",
    "print(text_lemmantized.iloc[example_text_idx])"
   ]
  },
  {
   "cell_type": "code",
   "execution_count": 12,
   "metadata": {},
   "outputs": [
    {
     "data": {
      "text/plain": [
       "2000"
      ]
     },
     "execution_count": 12,
     "metadata": {},
     "output_type": "execute_result"
    }
   ],
   "source": [
    "data_sklearn = text_lemmantized.apply(lambda l: ' '.join(l))\n",
    "n_samples = data_sklearn.shape[0]\n",
    "n_samples"
   ]
  },
  {
   "cell_type": "code",
   "execution_count": 13,
   "metadata": {},
   "outputs": [],
   "source": [
    "def train_lda_model(max_features, n_components, data_sklearn):\n",
    "    pipeline = Pipeline(\n",
    "        [\n",
    "            (\n",
    "                'count_vectorizer',\n",
    "                CountVectorizer(\n",
    "                    max_df=0.95,\n",
    "                    min_df=2,\n",
    "                    ngram_range=(1,1),\n",
    "                    stop_words='english',\n",
    "                    max_features=max_features\n",
    "                )\n",
    "            ),\n",
    "            (\n",
    "                'lda',\n",
    "                LatentDirichletAllocation(\n",
    "                    max_iter=1000,\n",
    "                    evaluate_every=10,\n",
    "                    learning_method='batch',\n",
    "                    random_state=0,\n",
    "                    n_jobs=-1,\n",
    "                    n_components=n_components\n",
    "                )\n",
    "            )\n",
    "        ],\n",
    "        verbose=1\n",
    "    )\n",
    "    pipeline.fit(data_sklearn)\n",
    "    return pipeline"
   ]
  },
  {
   "cell_type": "code",
   "execution_count": 14,
   "metadata": {},
   "outputs": [
    {
     "name": "stdout",
     "output_type": "stream",
     "text": [
      "[Pipeline] .. (step 1 of 2) Processing count_vectorizer, total=   0.2s\n",
      "[Pipeline] ............... (step 2 of 2) Processing lda, total=  43.0s\n",
      "Vocabulary size: 1000\n",
      "Approximative lof-likelihood: -572646.6136372776\n",
      "Perplexity: 518.0996958927743\n"
     ]
    }
   ],
   "source": [
    "max_features = 1000\n",
    "n_topics = 6\n",
    "pipeline = train_lda_model(max_features, n_topics, data_sklearn)\n",
    "count_vectorizer = pipeline.named_steps['count_vectorizer']\n",
    "lda_model = pipeline.named_steps['lda']\n",
    "count_vectors = count_vectorizer.transform(data_sklearn)\n",
    "feature_names = count_vectorizer.get_feature_names()\n",
    "print(f'Vocabulary size: {len(count_vectorizer.vocabulary_)}')\n",
    "print(f'Approximative lof-likelihood: {pipeline.score(data_sklearn)}')\n",
    "print(f'Perplexity: {lda_model.perplexity(count_vectors)}')\n",
    "\n",
    "topic_assignations = pd.DataFrame(\n",
    "    lda_model.transform(count_vectors),\n",
    "    columns=[f'Score Topic {i}' for i in range(1, n_topics+1)]\n",
    ").fillna(0)\n",
    "assigned_topic_score = topic_assignations.T.max()\n",
    "assigned_topic = topic_assignations.apply(lambda r: int(r.idxmax().split()[-1]), axis=1)"
   ]
  },
  {
   "cell_type": "code",
   "execution_count": 32,
   "metadata": {},
   "outputs": [],
   "source": [
    "results = pd.concat([data, topic_assignations], axis=1)\n",
    "results['Topic'] = assigned_topic\n",
    "results['Topic Score'] = assigned_topic_score"
   ]
  },
  {
   "cell_type": "code",
   "execution_count": 18,
   "metadata": {},
   "outputs": [
    {
     "name": "stderr",
     "output_type": "stream",
     "text": [
      "/home/redoacs/workspaces/topic-modeling/envs/lib/python3.7/site-packages/pyLDAvis/_prepare.py:257: FutureWarning: Sorting because non-concatenation axis is not aligned. A future version\n",
      "of pandas will change to not sort by default.\n",
      "\n",
      "To accept the future behavior, pass 'sort=False'.\n",
      "\n",
      "To retain the current behavior and silence the warning, pass 'sort=True'.\n",
      "\n",
      "  return pd.concat([default_term_info] + list(topic_dfs))\n"
     ]
    },
    {
     "data": {
      "text/html": [
       "\n",
       "<link rel=\"stylesheet\" type=\"text/css\" href=\"https://cdn.rawgit.com/bmabey/pyLDAvis/files/ldavis.v1.0.0.css\">\n",
       "\n",
       "\n",
       "<div id=\"ldavis_el260311397494038966568557527461\"></div>\n",
       "<script type=\"text/javascript\">\n",
       "\n",
       "var ldavis_el260311397494038966568557527461_data = {\"mdsDat\": {\"x\": [22.673974990844727, -42.93601608276367, -46.20249938964844, 27.958969116210938, 68.50668334960938, 5.999424457550049], \"y\": [108.7025375366211, 9.407533645629883, 82.88987731933594, -10.191633224487305, 51.1751708984375, 48.39613723754883], \"topics\": [1, 2, 3, 4, 5, 6], \"cluster\": [1, 1, 1, 1, 1, 1], \"Freq\": [15.010297721042079, 23.29705773839623, 15.313495852177972, 9.76629353136677, 14.85560653731613, 21.757248619700814]}, \"tinfo\": {\"Category\": [\"Default\", \"Default\", \"Default\", \"Default\", \"Default\", \"Default\", \"Default\", \"Default\", \"Default\", \"Default\", \"Default\", \"Default\", \"Default\", \"Default\", \"Default\", \"Default\", \"Default\", \"Default\", \"Default\", \"Default\", \"Default\", \"Default\", \"Default\", \"Default\", \"Default\", \"Default\", \"Default\", \"Default\", \"Default\", \"Default\", \"Topic1\", \"Topic1\", \"Topic1\", \"Topic1\", \"Topic1\", \"Topic1\", \"Topic1\", \"Topic1\", \"Topic1\", \"Topic1\", \"Topic1\", \"Topic1\", \"Topic1\", \"Topic1\", \"Topic1\", \"Topic1\", \"Topic1\", \"Topic1\", \"Topic1\", \"Topic1\", \"Topic1\", \"Topic1\", \"Topic1\", \"Topic1\", \"Topic1\", \"Topic1\", \"Topic1\", \"Topic1\", \"Topic1\", \"Topic1\", \"Topic1\", \"Topic1\", \"Topic1\", \"Topic1\", \"Topic1\", \"Topic1\", \"Topic1\", \"Topic1\", \"Topic1\", \"Topic1\", \"Topic1\", \"Topic1\", \"Topic1\", \"Topic1\", \"Topic1\", \"Topic1\", \"Topic1\", \"Topic1\", \"Topic1\", \"Topic1\", \"Topic1\", \"Topic1\", \"Topic1\", \"Topic1\", \"Topic1\", \"Topic1\", \"Topic1\", \"Topic1\", \"Topic2\", \"Topic2\", \"Topic2\", \"Topic2\", \"Topic2\", \"Topic2\", \"Topic2\", \"Topic2\", \"Topic2\", \"Topic2\", \"Topic2\", \"Topic2\", \"Topic2\", \"Topic2\", \"Topic2\", \"Topic2\", \"Topic2\", \"Topic2\", \"Topic2\", \"Topic2\", \"Topic2\", \"Topic2\", \"Topic2\", \"Topic2\", \"Topic2\", \"Topic2\", \"Topic2\", \"Topic2\", \"Topic2\", \"Topic2\", \"Topic2\", \"Topic2\", \"Topic2\", \"Topic2\", \"Topic2\", \"Topic2\", \"Topic2\", \"Topic2\", \"Topic2\", \"Topic2\", \"Topic2\", \"Topic2\", \"Topic2\", \"Topic2\", \"Topic2\", \"Topic2\", \"Topic2\", \"Topic2\", \"Topic2\", \"Topic2\", \"Topic2\", \"Topic2\", \"Topic2\", \"Topic2\", \"Topic2\", \"Topic2\", \"Topic2\", \"Topic2\", \"Topic2\", \"Topic2\", \"Topic2\", \"Topic2\", \"Topic2\", \"Topic2\", \"Topic2\", \"Topic3\", \"Topic3\", \"Topic3\", \"Topic3\", \"Topic3\", \"Topic3\", \"Topic3\", \"Topic3\", \"Topic3\", \"Topic3\", \"Topic3\", \"Topic3\", \"Topic3\", \"Topic3\", \"Topic3\", \"Topic3\", \"Topic3\", \"Topic3\", \"Topic3\", \"Topic3\", \"Topic3\", \"Topic3\", \"Topic3\", \"Topic3\", \"Topic3\", \"Topic3\", \"Topic3\", \"Topic3\", \"Topic3\", \"Topic3\", \"Topic3\", \"Topic3\", \"Topic3\", \"Topic3\", \"Topic3\", \"Topic3\", \"Topic3\", \"Topic3\", \"Topic3\", \"Topic3\", \"Topic3\", \"Topic3\", \"Topic3\", \"Topic3\", \"Topic3\", \"Topic3\", \"Topic3\", \"Topic3\", \"Topic3\", \"Topic3\", \"Topic3\", \"Topic3\", \"Topic3\", \"Topic3\", \"Topic3\", \"Topic3\", \"Topic4\", \"Topic4\", \"Topic4\", \"Topic4\", \"Topic4\", \"Topic4\", \"Topic4\", \"Topic4\", \"Topic4\", \"Topic4\", \"Topic4\", \"Topic4\", \"Topic4\", \"Topic4\", \"Topic4\", \"Topic4\", \"Topic4\", \"Topic4\", \"Topic4\", \"Topic4\", \"Topic4\", \"Topic4\", \"Topic4\", \"Topic4\", \"Topic4\", \"Topic4\", \"Topic4\", \"Topic4\", \"Topic4\", \"Topic4\", \"Topic4\", \"Topic4\", \"Topic4\", \"Topic4\", \"Topic4\", \"Topic4\", \"Topic4\", \"Topic4\", \"Topic4\", \"Topic4\", \"Topic4\", \"Topic4\", \"Topic4\", \"Topic4\", \"Topic4\", \"Topic4\", \"Topic4\", \"Topic5\", \"Topic5\", \"Topic5\", \"Topic5\", \"Topic5\", \"Topic5\", \"Topic5\", \"Topic5\", \"Topic5\", \"Topic5\", \"Topic5\", \"Topic5\", \"Topic5\", \"Topic5\", \"Topic5\", \"Topic5\", \"Topic5\", \"Topic5\", \"Topic5\", \"Topic5\", \"Topic5\", \"Topic5\", \"Topic5\", \"Topic5\", \"Topic5\", \"Topic5\", \"Topic5\", \"Topic5\", \"Topic5\", \"Topic5\", \"Topic5\", \"Topic5\", \"Topic5\", \"Topic5\", \"Topic5\", \"Topic5\", \"Topic5\", \"Topic5\", \"Topic5\", \"Topic5\", \"Topic5\", \"Topic5\", \"Topic5\", \"Topic5\", \"Topic5\", \"Topic5\", \"Topic5\", \"Topic5\", \"Topic5\", \"Topic5\", \"Topic5\", \"Topic5\", \"Topic5\", \"Topic5\", \"Topic5\", \"Topic5\", \"Topic5\", \"Topic5\", \"Topic5\", \"Topic5\", \"Topic5\", \"Topic5\", \"Topic5\", \"Topic6\", \"Topic6\", \"Topic6\", \"Topic6\", \"Topic6\", \"Topic6\", \"Topic6\", \"Topic6\", \"Topic6\", \"Topic6\", \"Topic6\", \"Topic6\", \"Topic6\", \"Topic6\", \"Topic6\", \"Topic6\", \"Topic6\", \"Topic6\", \"Topic6\", \"Topic6\", \"Topic6\", \"Topic6\", \"Topic6\", \"Topic6\", \"Topic6\", \"Topic6\", \"Topic6\", \"Topic6\", \"Topic6\", \"Topic6\", \"Topic6\", \"Topic6\", \"Topic6\", \"Topic6\", \"Topic6\", \"Topic6\", \"Topic6\", \"Topic6\", \"Topic6\", \"Topic6\", \"Topic6\", \"Topic6\", \"Topic6\", \"Topic6\", \"Topic6\", \"Topic6\", \"Topic6\", \"Topic6\", \"Topic6\", \"Topic6\", \"Topic6\", \"Topic6\", \"Topic6\", \"Topic6\", \"Topic6\", \"Topic6\", \"Topic6\", \"Topic6\", \"Topic6\", \"Topic6\", \"Topic6\", \"Topic6\", \"Topic6\"], \"Freq\": [374.0, 275.0, 413.0, 360.0, 200.0, 4104.0, 244.0, 195.0, 258.0, 1036.0, 170.0, 293.0, 188.0, 179.0, 216.0, 488.0, 765.0, 811.0, 704.0, 158.0, 239.0, 728.0, 160.0, 138.0, 256.0, 256.0, 128.0, 183.0, 119.0, 97.0, 178.23601498912984, 118.22146580347125, 111.33470774539643, 105.4338494939406, 82.80496900892531, 77.88550494597143, 72.96492110821951, 59.19382329757776, 56.242005414893306, 50.33559348952502, 45.41780906778205, 185.43773831610957, 42.46815320946812, 36.565339911096544, 34.59576668975542, 34.595192886172626, 34.59257972193653, 33.61192904051068, 33.60914212206523, 32.63010924404174, 60.111024282772206, 47.32401504984642, 60.353975238202835, 45.68295616215649, 50.19729586816276, 72.49895907225525, 41.43112949235235, 78.75216728004618, 141.59303186518483, 32.02976338785647, 69.18555962916405, 337.2562796170046, 103.31806009156402, 86.29981104035913, 70.12073760314328, 75.37385820182539, 100.90512464497131, 81.65851936394984, 455.09355472952586, 89.19120487921471, 58.19148321952626, 123.22194757363583, 94.50698000876923, 124.11016361150412, 139.91401601056512, 134.89047879644568, 150.76643343039976, 134.01713397259962, 141.20753981481153, 107.66926881958686, 289.12888427174965, 118.70314096171492, 104.92288580889834, 107.45889544008381, 84.85447543219159, 113.17727119212783, 91.99462780220422, 88.50358398962945, 257.2049119217465, 88.79860294122186, 80.9199184957382, 69.10022229213672, 67.13260440629816, 65.16076168457177, 58.266631550025025, 51.37307274179756, 44.48110884428664, 44.48086392880644, 43.496399983915325, 43.49227685499138, 37.586167592694835, 36.60270102944541, 33.6466817384718, 32.65852132200458, 57.27497450008025, 46.828592483398964, 40.96959976859477, 34.34592499796533, 56.52478654000618, 47.39274674945679, 40.9074773301832, 32.7754977160781, 29.110280931415925, 32.30470851223575, 44.52708572299204, 76.56138047652938, 54.59599492879108, 43.40264724227893, 55.604492658513884, 60.12158059868828, 80.41420671193504, 126.92519362559585, 107.97375358134163, 403.85296366792863, 132.5180973514495, 1485.319580791335, 136.71654213826807, 162.12487891811452, 252.32479408004187, 93.53872486615568, 296.88586499871894, 297.7141115653384, 308.55976672799403, 196.7277798489888, 205.03043383803484, 186.66122453468677, 139.2224131267629, 291.6438331948595, 144.57027498562354, 183.1098116015694, 108.6690051942403, 180.2414613417246, 206.35635264069398, 150.56980214361008, 114.71013513367231, 189.2764782298733, 135.06080771840718, 179.002896974814, 124.09081180425243, 167.70679765300176, 132.4075857700288, 118.09750783246099, 112.21898926641896, 117.56471482325806, 90.7003531262361, 66.82239001008243, 62.843112088249235, 58.865134986678285, 56.87557577267638, 56.87345992784479, 51.89832773659365, 47.92094584961124, 106.57242855729736, 46.92495335176165, 118.24184776434521, 43.93608289366381, 42.9439546982954, 41.950373116735854, 40.95225463893163, 36.97491654353435, 35.97964150650702, 35.979460328737744, 34.9869138452206, 34.98611923155014, 34.98460306847231, 32.99646320396666, 77.62479570358418, 32.00126108619179, 47.61793940657686, 78.99857786923846, 58.84697983522082, 71.15206418027384, 46.26014772930284, 228.15133094181166, 92.67541834573481, 61.94257079887407, 50.530392315391964, 42.49052906331827, 72.94750310685669, 79.55091746410574, 76.31254439587865, 119.3808546842249, 110.02459205665465, 138.02614677859071, 78.6101399193295, 69.31332775951566, 232.96845232892647, 507.1962933949037, 83.66065028955968, 83.24546080121405, 78.44377319183967, 144.74151172461373, 96.10846662115216, 73.62133070042873, 87.34731754814473, 92.31374856412111, 77.7227638573223, 84.0270290716288, 69.50772865294176, 200.08380441876267, 87.69167238335, 87.69100021117754, 83.71303421634394, 66.8044601463476, 52.88058873898731, 39.94861429839235, 95.38591891010209, 36.966621261329514, 34.97739628499976, 33.98151318895481, 33.977386574396185, 32.98817829310339, 32.986997506888734, 32.98577513052321, 45.635691957379684, 37.8390032165742, 259.27991821974064, 159.99011304532837, 90.33781813812097, 29.711611593974425, 34.68317552515316, 30.967986562571024, 36.59251579583945, 57.52977609876858, 58.0659684483531, 27.422582348458118, 163.0250408973315, 34.05712056168209, 47.455186222527125, 97.679910816031, 112.67229550384715, 79.66382738808109, 100.12465902856056, 119.77101597166383, 124.73025283777092, 65.47506543163772, 66.31374427594487, 195.20175263828457, 113.91523015828723, 70.75204430028963, 83.56100366074133, 42.49958259917123, 47.134880827087244, 43.92282327700019, 46.11864312514608, 44.1779791986923, 96.69732379781088, 95.70362030549364, 62.856792845240626, 60.87162764139714, 60.86997923826508, 55.89593785958797, 55.89528989057992, 55.88926063258992, 54.899870368302174, 135.98975591068466, 44.94633511166908, 41.962108230951195, 40.96811087306634, 40.96716402712791, 37.98041627253363, 36.98604310742635, 36.98517956553704, 36.98497188081355, 36.98221089291337, 35.98812930293327, 33.9997723161703, 82.52913158007483, 33.00589142927743, 33.005741089888744, 32.01159136929526, 62.67072418439765, 65.5250879053441, 63.55694315653675, 45.82547863381626, 45.765052496863824, 341.11112563431556, 75.25927049596224, 191.18025783015423, 121.26847609668674, 48.091700932128866, 71.62515512993774, 78.34299227794044, 54.842793298692776, 180.87879431146263, 141.9444023548141, 70.5089729397361, 182.37955183144723, 86.13373091606104, 93.03028080366308, 102.34744079899737, 87.14863255740843, 130.23658510392545, 103.56367582063854, 121.37042843031267, 153.37589052395225, 133.59025583853708, 74.09776082023296, 79.83252430999934, 98.28292023780806, 101.19433432244983, 104.60444469137326, 126.18793314273219, 71.58489897768922, 136.01824047005655, 78.91747105749533, 76.46545996267567, 75.71574805404677, 79.0651399252893, 359.48460640191286, 125.52869209532881, 106.77590785390707, 105.7890184987532, 101.8388257206292, 70.25163502058987, 70.25154233453175, 68.27681063818008, 54.456974685545894, 52.47852663377929, 39.649824588889864, 88.00553667547015, 39.648013013109626, 39.644945081436816, 38.66263659233694, 35.70172964059232, 35.70102391005759, 35.70049006488982, 35.69838242058572, 33.72684472896043, 32.739932948934396, 31.752866584818737, 59.377780256265915, 55.169194032833005, 43.263918347723184, 35.561815279446854, 38.9618251026299, 37.976270999680956, 30.212863002863706, 47.1619544257505, 37.985125306298734, 52.443167527029765, 1491.7886854492372, 165.54776863148734, 61.4348915169495, 62.23213352691657, 85.42695475429933, 117.43785256716345, 68.87691471064711, 337.9615866226789, 322.39537602741484, 82.97372149083009, 283.8627030909197, 140.00073614667266, 108.92008799439438, 92.49252211301943, 260.7472044688854, 140.79973237541364, 93.68380777603497, 247.65304292811464, 103.3297696371877, 210.38802977786773, 213.18238003022233, 136.1451495413248, 176.9056971099242, 117.97446602237754, 127.8135963719635, 130.86699299853166, 107.24030708136567, 125.96569450767021, 104.77814497271622, 128.6997127197404, 99.0267304958265], \"Term\": [\"edu\", \"key\", \"drive\", \"god\", \"game\", \"pron\", \"government\", \"play\", \"car\", \"use\", \"team\", \"file\", \"card\", \"disk\", \"space\", \"year\", \"people\", \"say\", \"just\", \"chip\", \"mail\", \"good\", \"window\", \"ftp\", \"send\", \"program\", \"win\", \"image\", \"windows\", \"player\", \"disk\", \"windows\", \"controller\", \"scsi\", \"rom\", \"mb\", \"floppy\", \"bios\", \"printer\", \"ram\", \"font\", \"card\", \"connector\", \"cache\", \"widget\", \"meg\", \"mm\", \"vga\", \"external\", \"colormap\", \"port\", \"pin\", \"screen\", \"input\", \"apple\", \"memory\", \"thanks\", \"monitor\", \"window\", \"cylinder\", \"interface\", \"drive\", \"color\", \"feature\", \"video\", \"display\", \"application\", \"board\", \"use\", \"driver\", \"advance\", \"thank\", \"speed\", \"hard\", \"file\", \"support\", \"problem\", \"run\", \"work\", \"help\", \"pron\", \"need\", \"include\", \"new\", \"software\", \"know\", \"try\", \"time\", \"car\", \"bike\", \"brake\", \"oil\", \"tire\", \"engine\", \"insurance\", \"dog\", \"mamma\", \"wheel\", \"apartment\", \"vehicle\", \"ride\", \"fluid\", \"helmet\", \"wire\", \"building\", \"air\", \"crowd\", \"heat\", \"mile\", \"replace\", \"dealer\", \"damage\", \"expensive\", \"traffic\", \"gas\", \"guy\", \"listen\", \"road\", \"water\", \"cheap\", \"light\", \"buy\", \"turn\", \"just\", \"happen\", \"pron\", \"hear\", \"start\", \"year\", \"sell\", \"think\", \"good\", \"know\", \"want\", \"come\", \"look\", \"really\", \"say\", \"tell\", \"thing\", \"little\", \"work\", \"time\", \"way\", \"old\", \"make\", \"try\", \"people\", \"run\", \"use\", \"new\", \"right\", \"need\", \"weapon\", \"crime\", \"armenians\", \"greek\", \"firearm\", \"turkish\", \"armenian\", \"citizen\", \"israeli\", \"israel\", \"village\", \"gun\", \"vote\", \"officer\", \"congress\", \"arm\", \"armenia\", \"fund\", \"hospital\", \"arab\", \"azerbaijan\", \"soldier\", \"maria\", \"president\", \"civilian\", \"population\", \"health\", \"drug\", \"military\", \"tax\", \"government\", \"country\", \"gm\", \"clinton\", \"federal\", \"american\", \"section\", \"mr\", \"kill\", \"child\", \"state\", \"attack\", \"police\", \"people\", \"pron\", \"person\", \"control\", \"issue\", \"say\", \"law\", \"public\", \"year\", \"use\", \"right\", \"make\", \"number\", \"game\", \"encryption\", \"hiv\", \"clipper\", \"season\", \"flyer\", \"patient\", \"player\", \"nhl\", \"leafs\", \"hockey\", \"privacy\", \"tor\", \"league\", \"winner\", \"pp\", \"score\", \"key\", \"team\", \"goal\", \"philadelphia\", \"nsa\", \"toronto\", \"secure\", \"shot\", \"disease\", \"1st\", \"play\", \"king\", \"aids\", \"win\", \"chip\", \"period\", \"point\", \"year\", \"good\", \"second\", \"line\", \"pron\", \"use\", \"number\", \"make\", \"security\", \"public\", \"phone\", \"time\", \"know\", \"probe\", \"pub\", \"cs\", \"orbit\", \"nasa\", \"3d\", \"lunar\", \"os\", \"xfree86\", \"ftp\", \"database\", \"amiga\", \"mars\", \"satellite\", \"sci\", \"spacecraft\", \"mil\", \"bbs\", \"magi\", \"planet\", \"solar\", \"mission\", \"binary\", \"shuttle\", \"tar\", \"archive\", \"moon\", \"ray\", \"anonymous\", \"uk\", \"edu\", \"launch\", \"space\", \"graphic\", \"graphics\", \"site\", \"faq\", \"internet\", \"mail\", \"image\", \"object\", \"send\", \"com\", \"university\", \"contact\", \"server\", \"available\", \"source\", \"version\", \"file\", \"program\", \"sun\", \"package\", \"computer\", \"list\", \"information\", \"include\", \"earth\", \"pron\", \"write\", \"type\", \"software\", \"use\", \"god\", \"jesus\", \"church\", \"bible\", \"religion\", \"christ\", \"faith\", \"belief\", \"gay\", \"atheism\", \"homosexual\", \"christian\", \"suck\", \"heaven\", \"marriage\", \"pope\", \"interpretation\", \"mary\", \"meaning\", \"atheist\", \"catholic\", \"doctrine\", \"sin\", \"christians\", \"religious\", \"tradition\", \"moral\", \"lord\", \"matthew\", \"truth\", \"sex\", \"nature\", \"pron\", \"believe\", \"statement\", \"argument\", \"claim\", \"life\", \"love\", \"say\", \"people\", \"exist\", \"make\", \"read\", \"man\", \"word\", \"think\", \"law\", \"book\", \"know\", \"fact\", \"just\", \"good\", \"point\", \"time\", \"mean\", \"way\", \"thing\", \"post\", \"come\", \"question\", \"use\", \"really\"], \"Total\": [374.0, 275.0, 413.0, 360.0, 200.0, 4104.0, 244.0, 195.0, 258.0, 1036.0, 170.0, 293.0, 188.0, 179.0, 216.0, 488.0, 765.0, 811.0, 704.0, 158.0, 239.0, 728.0, 160.0, 138.0, 256.0, 256.0, 128.0, 183.0, 119.0, 97.0, 179.06372506847268, 119.04997278470633, 112.16313850738644, 106.26013351262027, 83.63200188083734, 78.71284372751532, 73.79369913353428, 60.02002175683469, 57.06852681736731, 51.16556895868219, 46.24639770005811, 188.9317417268987, 43.29487598309841, 37.39188276783826, 35.42424019806487, 35.42424759162931, 35.42426575684729, 34.44041050633825, 34.44041252718096, 33.456555804698716, 61.999515086256544, 49.201411569115926, 64.95188664787457, 49.216433287276985, 55.115868965089106, 80.74048441674928, 46.250460865680445, 88.62872618154657, 160.38924944285168, 36.41167932424427, 78.81327596482188, 413.36384393185665, 120.20366549867579, 100.4458127505246, 81.78714163451019, 89.68776856216842, 129.20174934605362, 105.4971095428913, 1036.7941837499657, 124.00377950477827, 68.93070323486302, 216.98212265272994, 144.69497540326012, 220.73027832954176, 293.95289432773995, 294.7196431774777, 362.16351628004014, 340.4703463872816, 460.66416667246625, 254.85743648231494, 4104.653437015567, 386.0347460377752, 307.0972726796269, 464.61242712236503, 161.23310601605024, 791.5319417807698, 365.0581793905885, 622.2925752023476, 258.0323404017175, 89.62535156764821, 81.74666056474243, 69.92864253903069, 67.95895194931056, 65.98929094331167, 59.095445450309306, 52.20159183475629, 45.30772494229433, 45.30772005729632, 44.3228876246677, 44.32291692192231, 38.413877618468796, 37.42902985881304, 34.47453849374623, 33.489702128158626, 61.09580289816367, 50.23799230077799, 44.34800626075891, 37.45273619738092, 62.099078288065556, 52.2433846064709, 45.30413895174973, 36.473268009563675, 32.5022722809997, 36.47712603880647, 50.28318016263825, 87.75837695532658, 63.05266987794478, 50.282886619349846, 65.02458332966265, 70.9033532606739, 97.57848129435432, 170.4033120111404, 143.93667534809373, 704.1062424862887, 191.4562183494475, 4104.653437015567, 204.11561116415214, 270.6001146465422, 488.76226832446486, 132.94523158292418, 697.9307339668164, 728.6931736876782, 791.5319417807698, 409.68151583911106, 441.35837471321065, 403.4762913636103, 259.2975822095238, 811.1708450800528, 277.21199752522136, 428.3840619575886, 183.4881418901109, 460.66416667246625, 622.2925752023476, 396.96391946738333, 220.0831420612843, 735.2701102983226, 365.0581793905885, 765.6338331457129, 340.4703463872816, 1036.7941837499657, 464.61242712236503, 339.0771901911142, 386.0347460377752, 118.3902775338238, 91.52751614156995, 67.64949681200547, 63.66984039355033, 59.69018214900236, 57.70035141571641, 57.70032984945817, 52.72575930356167, 48.74609643385692, 108.44137954502251, 47.751170674908224, 120.36986252171458, 44.76642636783029, 43.77149616884206, 42.776594171862406, 41.78165117535448, 37.801990672664495, 36.807089044394026, 36.807069216837945, 35.81217587691512, 35.81216605815378, 35.81216006725917, 33.82233689141066, 79.58882670864243, 32.827424381046306, 49.73088457327875, 82.56108557247187, 61.66434787728179, 74.59335391417699, 48.73312732272793, 244.74012181894514, 98.46727472024628, 65.6304148446543, 53.7199865103029, 44.76600313416443, 85.5278733397037, 95.43562525863376, 93.38947209346486, 173.6063656555001, 157.81733179281932, 226.1720698015946, 102.40534400396224, 87.37146761990891, 765.6338331457129, 4104.653437015567, 164.56142912637773, 167.3639569052816, 156.71668695856263, 811.1708450800528, 271.48571193319265, 167.04664964789055, 488.76226832446486, 1036.7941837499657, 339.0771901911142, 735.2701102983226, 287.5625908641586, 200.91006389021462, 88.51724521076949, 88.51725027799512, 84.5387352658435, 67.63007935892875, 53.70531106775736, 40.77515740761948, 97.45650802959587, 37.79128128139032, 35.80202776929641, 34.80739046899318, 34.80738760530544, 33.812775035139175, 33.812768214077074, 33.812761095798976, 47.72375818297344, 39.780857591140105, 275.38314129602213, 170.08186586353173, 99.41997080045421, 32.81940222764213, 38.786855670668764, 34.79326114985951, 41.771043864852736, 66.63783982463316, 67.63262056344035, 32.77540946681664, 195.77402643162884, 41.71801753520525, 61.66621817646533, 128.98420410027006, 158.6404413684039, 117.16241727064133, 329.54780509718375, 488.76226832446486, 728.6931736876782, 178.18710021613762, 211.93731952411002, 4104.653437015567, 1036.7941837499657, 287.5625908641586, 735.2701102983226, 71.61682861221453, 167.04664964789055, 120.03004447056388, 622.2925752023476, 791.5319417807698, 97.52345217557166, 96.52827581783752, 63.68698169028917, 61.696643123448354, 61.696633374083454, 56.72069582737787, 56.720692946767024, 56.72062198752028, 55.72549585961279, 138.30898162438973, 45.77358473782686, 42.78802986385732, 41.79285581985367, 41.7928489565768, 38.80727690262995, 37.81208684633404, 37.81209133377014, 37.81207552802199, 37.81206245086885, 36.81688628151507, 34.82651204934635, 84.57605071787019, 33.8313302330787, 33.831332984751896, 32.836150539661276, 64.66988067259153, 67.65713209576019, 65.66392766838442, 47.763660657833306, 47.75451886481271, 374.801943946411, 79.59246780935692, 216.70443942802777, 138.1409789859233, 50.72863959397256, 80.59334782405276, 89.47795961425439, 59.690325756991676, 239.25789143861914, 183.7053530659534, 80.54244361172726, 256.249600744104, 103.42384543764757, 116.30484444305822, 132.05152160192384, 111.18920500831814, 194.64107127969612, 148.98493663334781, 188.38895618483392, 293.95289432773995, 256.84341414617296, 92.35524436657542, 107.34252922716388, 167.42946396832423, 182.49280712902373, 197.7146388767078, 307.0972726796269, 95.34625317483115, 4104.653437015567, 203.019366439281, 172.12415215486732, 161.23310601605024, 1036.7941837499657, 360.31200839935957, 126.35793083056625, 107.60209154979681, 106.61494115981816, 102.66635815241897, 71.07760935304637, 71.07760850364231, 69.10331698288007, 55.283241191456845, 53.30898087140773, 40.47601952500025, 89.84101451627545, 40.47603184763689, 40.47603811734008, 39.48887272706862, 36.5274236797288, 36.52742864627446, 36.52742592281953, 36.52743144684383, 34.55313043179781, 33.565980360898905, 32.57883427476426, 61.21429254352508, 57.267468389430356, 45.40868126263051, 37.52343937683455, 41.47634688340638, 40.48918492493145, 32.59137713481694, 51.36097525606785, 41.48403352806907, 59.27831571995432, 4104.653437015567, 259.9005037018137, 76.09478704569636, 78.1042936656332, 119.58114879810017, 185.79229576701704, 89.79688737597853, 811.1708450800528, 765.6338331457129, 117.58516368197812, 735.2701102983226, 261.6707311440548, 179.9053662825172, 142.3840643683898, 697.9307339668164, 271.48571193319265, 151.4111236961014, 791.5319417807698, 190.08167451629947, 704.1062424862887, 728.6931736876782, 329.54780509718375, 622.2925752023476, 276.8033817207381, 396.96391946738333, 428.3840619575886, 244.3184335101986, 441.35837471321065, 262.9188871646752, 1036.7941837499657, 259.2975822095238], \"loglift\": [30.0, 29.0, 28.0, 27.0, 26.0, 25.0, 24.0, 23.0, 22.0, 21.0, 20.0, 19.0, 18.0, 17.0, 16.0, 15.0, 14.0, 13.0, 12.0, 11.0, 10.0, 9.0, 8.0, 7.0, 6.0, 5.0, 4.0, 3.0, 2.0, 1.0, 1.8918, 1.8895, 1.889, 1.8886, 1.8865, 1.8859, 1.8851, 1.8826, 1.8818, 1.8801, 1.8784, 1.8778, 1.8772, 1.8741, 1.8728, 1.8728, 1.8727, 1.8721, 1.872, 1.8714, 1.8655, 1.8575, 1.823, 1.8219, 1.803, 1.7888, 1.7864, 1.7783, 1.7718, 1.7682, 1.7661, 1.6929, 1.7451, 1.7446, 1.7425, 1.7226, 1.6492, 1.6403, 1.073, 1.5669, 1.7271, 1.3306, 1.4705, 1.3207, 1.154, 1.1149, 1.0201, 0.9641, 0.714, 1.0348, -0.7566, 0.7171, 0.8225, 0.4323, 1.2545, -0.0486, 0.5181, -0.0539, 1.4536, 1.4476, 1.4467, 1.4449, 1.4446, 1.4442, 1.4427, 1.4408, 1.4384, 1.4384, 1.438, 1.4379, 1.4351, 1.4345, 1.4325, 1.4317, 1.3923, 1.3866, 1.3776, 1.3702, 1.3628, 1.3594, 1.3548, 1.3499, 1.3466, 1.3354, 1.3353, 1.3203, 1.3128, 1.3097, 1.3003, 1.2919, 1.2634, 1.1623, 1.1694, 0.901, 1.0889, 0.4404, 1.0561, 0.9446, 0.7957, 1.1053, 0.6021, 0.5617, 0.5148, 0.7233, 0.6901, 0.686, 0.8349, 0.4339, 0.8058, 0.6069, 0.933, 0.5185, 0.353, 0.4874, 0.8052, 0.0998, 0.4625, 0.0035, 0.4475, -0.3648, 0.2015, 0.4021, 0.2214, 1.8694, 1.8674, 1.8641, 1.8634, 1.8625, 1.862, 1.862, 1.8606, 1.8594, 1.8591, 1.859, 1.8586, 1.8577, 1.8573, 1.8569, 1.8564, 1.8543, 1.8537, 1.8537, 1.8531, 1.8531, 1.8531, 1.8517, 1.8514, 1.8509, 1.833, 1.8323, 1.8297, 1.8292, 1.8244, 1.8062, 1.8158, 1.8186, 1.8152, 1.8243, 1.7173, 1.6944, 1.6745, 1.502, 1.5157, 1.3826, 1.612, 1.6449, 0.6866, -0.2145, 1.1999, 1.1781, 1.1844, 0.1529, 0.838, 1.0571, 0.1545, -0.5423, 0.4034, -0.2927, 0.4564, 2.3221, 2.3169, 2.3169, 2.3164, 2.314, 2.3108, 2.3058, 2.3048, 2.3042, 2.3029, 2.3022, 2.3021, 2.3015, 2.3015, 2.3015, 2.2815, 2.2762, 2.266, 2.2651, 2.2304, 2.2268, 2.2144, 2.2098, 2.1939, 2.1793, 2.1737, 2.1479, 2.1432, 2.1233, 2.0643, 2.0482, 1.9841, 1.9405, 1.1349, 0.9199, 0.5611, 1.3251, 1.1643, -0.7196, 0.1178, 0.924, 0.1516, 1.8044, 1.061, 1.3209, -0.276, -0.5595, 1.8983, 1.8982, 1.8937, 1.8933, 1.8933, 1.8921, 1.8921, 1.892, 1.8919, 1.8899, 1.8886, 1.8873, 1.8869, 1.8868, 1.8853, 1.8847, 1.8847, 1.8847, 1.8846, 1.884, 1.8828, 1.8823, 1.8821, 1.8821, 1.8814, 1.8754, 1.8748, 1.8742, 1.8654, 1.8642, 1.8126, 1.8508, 1.7815, 1.7765, 1.8534, 1.7888, 1.7739, 1.8221, 1.6271, 1.6489, 1.7737, 1.5667, 1.7239, 1.6835, 1.652, 1.6632, 1.505, 1.5431, 1.4671, 1.2563, 1.2531, 1.6865, 1.6107, 1.3741, 1.3171, 1.2702, 1.0174, 1.6202, -1.5003, 0.9619, 1.0954, 1.1509, -0.6668, 1.5229, 1.5186, 1.5175, 1.5174, 1.5171, 1.5135, 1.5135, 1.5132, 1.5102, 1.5095, 1.5046, 1.5046, 1.5046, 1.5045, 1.5041, 1.5024, 1.5023, 1.5023, 1.5023, 1.501, 1.5003, 1.4995, 1.4948, 1.4879, 1.4768, 1.4715, 1.4627, 1.4611, 1.4494, 1.4399, 1.4371, 1.4027, 0.5131, 1.0742, 1.3112, 1.298, 1.1889, 1.0665, 1.26, 0.6497, 0.6603, 1.1766, 0.5735, 0.8998, 1.0234, 1.0938, 0.5407, 0.8687, 1.0451, 0.3633, 0.9157, 0.3172, 0.2961, 0.6412, 0.2674, 0.6724, 0.392, 0.3394, 0.7018, 0.2714, 0.6052, -0.5612, 0.5626], \"logprob\": [30.0, 29.0, 28.0, 27.0, 26.0, 25.0, 24.0, 23.0, 22.0, 21.0, 20.0, 19.0, 18.0, 17.0, 16.0, 15.0, 14.0, 13.0, 12.0, 11.0, 10.0, 9.0, 8.0, 7.0, 6.0, 5.0, 4.0, 3.0, 2.0, 1.0, -4.3459, -4.7564, -4.8164, -4.8709, -5.1125, -5.1737, -5.239, -5.4482, -5.4993, -5.6103, -5.7131, -4.3063, -5.7802, -5.9299, -5.9853, -5.9853, -5.9853, -6.0141, -6.0142, -6.0437, -5.4328, -5.672, -5.4288, -5.7073, -5.613, -5.2454, -5.8049, -5.1627, -4.576, -6.0623, -5.2922, -3.7081, -4.8912, -5.0712, -5.2788, -5.2065, -4.9148, -5.1264, -3.4085, -5.0382, -5.4652, -4.715, -4.9803, -4.7078, -4.588, -4.6245, -4.5133, -4.631, -4.5788, -4.8499, -3.8621, -4.7524, -4.8758, -4.8519, -5.088, -4.8, -5.0073, -5.0459, -4.4187, -5.4822, -5.5751, -5.733, -5.7619, -5.7917, -5.9035, -6.0295, -6.1735, -6.1735, -6.1959, -6.196, -6.3419, -6.3685, -6.4527, -6.4825, -5.9207, -6.1221, -6.2557, -6.4321, -5.9339, -6.1101, -6.2573, -6.4789, -6.5975, -6.4934, -6.1725, -5.6305, -5.9686, -6.1981, -5.9503, -5.8722, -5.5814, -5.125, -5.2867, -3.9675, -5.0819, -2.6652, -5.0507, -4.8802, -4.4379, -5.4302, -4.2752, -4.2724, -4.2367, -4.6868, -4.6454, -4.7393, -5.0325, -4.293, -4.9948, -4.7585, -5.2803, -4.7743, -4.639, -4.9541, -5.2262, -4.7254, -5.0628, -4.7812, -5.1476, -4.8464, -5.0827, -5.1971, -5.2481, -4.782, -5.0414, -5.3469, -5.4083, -5.4737, -5.5081, -5.5082, -5.5997, -5.6794, -4.8802, -5.7004, -4.7762, -5.7662, -5.7891, -5.8125, -5.8366, -5.9387, -5.966, -5.966, -5.994, -5.994, -5.9941, -6.0526, -5.1971, -6.0832, -5.6858, -5.1796, -5.474, -5.2842, -5.7147, -4.119, -5.0199, -5.4228, -5.6264, -5.7997, -5.2592, -5.1726, -5.2141, -4.7667, -4.8483, -4.6215, -5.1845, -5.3103, -4.0981, -3.3201, -5.1222, -5.1272, -5.1866, -4.574, -4.9835, -5.25, -5.0791, -5.0238, -5.1958, -5.1178, -5.3075, -3.8004, -4.6254, -4.6254, -4.6718, -4.8974, -5.1311, -5.4116, -4.5413, -5.4892, -5.5445, -5.5734, -5.5735, -5.603, -5.6031, -5.6031, -5.2785, -5.4658, -3.5413, -4.0241, -4.5956, -5.7076, -5.5529, -5.6662, -5.4993, -5.0469, -5.0376, -5.7878, -4.0053, -5.5711, -5.2394, -4.5175, -4.3747, -4.7214, -4.4928, -4.3136, -4.273, -4.9175, -4.9048, -3.8251, -4.3637, -4.84, -4.6736, -5.3497, -5.2462, -5.3167, -5.268, -5.311, -4.947, -4.9574, -5.3778, -5.4099, -5.4099, -5.4951, -5.4951, -5.4953, -5.5131, -4.606, -5.7132, -5.7819, -5.8058, -5.8059, -5.8816, -5.9081, -5.9081, -5.9081, -5.9082, -5.9354, -5.9923, -5.1055, -6.0219, -6.0219, -6.0525, -5.3807, -5.3362, -5.3667, -5.6938, -5.6951, -3.6864, -5.1977, -4.2654, -4.7206, -5.6455, -5.2472, -5.1575, -5.5142, -4.3208, -4.5632, -5.2629, -4.3125, -5.0627, -4.9857, -4.8902, -5.051, -4.6493, -4.8784, -4.7198, -4.4857, -4.6238, -5.2132, -5.1387, -4.9308, -4.9016, -4.8684, -4.6809, -5.2477, -4.6058, -5.1502, -5.1818, -5.1916, -5.1484, -4.0155, -5.0677, -5.2295, -5.2387, -5.2768, -5.6481, -5.6481, -5.6766, -5.9028, -5.9398, -6.2201, -5.4228, -6.2202, -6.2202, -6.2453, -6.325, -6.325, -6.325, -6.3251, -6.3819, -6.4116, -6.4422, -5.8163, -5.8898, -6.1329, -6.3289, -6.2376, -6.2632, -6.4919, -6.0466, -6.263, -5.9405, -2.5925, -4.7909, -5.7822, -5.7693, -5.4525, -5.1343, -5.6679, -4.0773, -4.1244, -5.4817, -4.2517, -4.9585, -5.2096, -5.3731, -4.3366, -4.9529, -5.3603, -4.3882, -5.2623, -4.5512, -4.538, -4.9865, -4.7246, -5.1297, -5.0496, -5.026, -5.2251, -5.0642, -5.2483, -5.0427, -5.3048]}, \"token.table\": {\"Topic\": [1, 4, 6, 5, 1, 4, 6, 3, 4, 2, 6, 3, 4, 6, 5, 3, 5, 2, 1, 2, 5, 1, 5, 3, 2, 5, 3, 4, 5, 6, 3, 3, 3, 3, 6, 6, 3, 4, 6, 1, 2, 3, 4, 5, 3, 5, 6, 1, 2, 3, 4, 6, 6, 2, 5, 1, 1, 2, 4, 5, 1, 5, 6, 2, 2, 3, 5, 1, 2, 3, 1, 2, 1, 3, 6, 1, 2, 3, 6, 1, 4, 6, 4, 6, 3, 6, 6, 3, 3, 2, 3, 4, 6, 3, 4, 4, 1, 5, 6, 1, 1, 3, 5, 1, 2, 3, 4, 5, 6, 1, 2, 4, 5, 3, 1, 2, 5, 1, 2, 3, 4, 5, 6, 1, 3, 4, 6, 3, 2, 4, 5, 1, 2, 2, 3, 5, 1, 2, 3, 4, 1, 1, 3, 4, 5, 6, 2, 1, 2, 3, 1, 2, 3, 6, 5, 6, 1, 5, 4, 2, 1, 3, 4, 5, 6, 1, 2, 1, 2, 3, 4, 5, 6, 6, 5, 6, 1, 2, 5, 3, 4, 1, 5, 3, 1, 2, 4, 1, 1, 5, 3, 4, 2, 5, 6, 2, 3, 2, 3, 4, 6, 6, 1, 2, 3, 4, 5, 6, 3, 4, 1, 5, 1, 5, 3, 3, 6, 2, 4, 5, 2, 3, 4, 6, 1, 2, 3, 4, 6, 1, 3, 5, 1, 2, 3, 4, 5, 6, 2, 5, 6, 2, 1, 2, 3, 5, 6, 4, 4, 6, 3, 1, 3, 5, 6, 1, 3, 4, 5, 6, 1, 3, 4, 5, 6, 1, 2, 5, 2, 1, 5, 1, 3, 5, 6, 3, 5, 3, 3, 4, 5, 6, 6, 1, 2, 3, 4, 6, 1, 2, 4, 5, 2, 3, 4, 6, 4, 6, 1, 2, 3, 4, 5, 6, 3, 5, 6, 3, 4, 6, 4, 4, 2, 3, 4, 6, 1, 2, 4, 6, 1, 2, 3, 4, 5, 6, 1, 2, 3, 4, 5, 6, 2, 6, 1, 2, 3, 4, 6, 1, 2, 3, 4, 5, 6, 3, 6, 1, 2, 5, 6, 5, 5, 1, 2, 4, 5, 6, 1, 2, 3, 4, 5, 6, 2, 2, 3, 4, 5, 6, 3, 6, 5, 6, 5, 6, 1, 1, 2, 3, 4, 6, 6, 1, 1, 3, 6, 5, 2, 3, 5, 3, 6, 5, 6, 1, 1, 2, 3, 5, 6, 3, 6, 3, 6, 5, 4, 5, 6, 1, 2, 3, 4, 5, 6, 1, 2, 3, 4, 5, 6, 4, 3, 4, 1, 2, 3, 4, 5, 6, 4, 5, 6, 3, 2, 1, 2, 3, 5, 6, 5, 5, 1, 3, 5, 4, 1, 2, 3, 4, 5, 6, 3, 4, 5, 6, 1, 3, 5, 6, 4, 5, 2, 4, 5, 1, 6, 5, 3, 4, 5, 6, 2, 4, 1, 2, 3, 4, 5, 6, 2, 3, 6, 3, 6, 1, 3, 1, 2, 4, 5, 6, 1, 4, 3, 5, 1, 4, 5, 1, 2, 3, 4, 5, 6, 1, 3, 5, 1, 2, 3, 4, 5, 6, 5, 3, 4, 5, 6, 1, 2, 3, 4, 5, 6, 1, 2, 5, 1, 2, 4, 5, 6, 1, 2, 4, 6, 6, 2, 6, 2, 5, 2, 1, 2, 3, 4, 6, 2, 5, 6, 1, 1, 2, 4, 5, 5, 2, 3, 4, 5, 6, 5, 3, 4, 1, 6, 1, 4, 1, 2, 3, 4, 5, 6, 1, 3, 5, 3, 4, 3, 4, 1, 2, 5, 1, 2, 3, 4, 5, 6, 1, 2, 5, 3, 6, 3, 4, 5, 5, 6, 3, 5, 6, 1, 5, 5, 3, 3, 5, 6, 2, 5, 6, 5, 1, 2, 4, 1, 2, 3, 4, 5, 6, 2, 3, 4, 5, 6, 1, 3, 6, 6, 1, 2, 5, 6, 1, 2, 3, 5, 6, 5, 3, 6, 4, 5, 1, 2, 3, 6, 1, 2, 3, 5, 6, 1, 2, 1, 2, 3, 4, 5, 6, 1, 2, 3, 4, 6, 1, 2, 3, 4, 5, 6, 2, 4, 1, 4, 5, 3, 6, 2, 4, 3, 6, 1, 2, 3, 4, 5, 6, 3, 1, 2, 3, 4, 6, 1, 2, 5, 6, 5, 6, 1, 2, 3, 5, 1, 2, 3, 4, 5, 6, 2, 1, 4, 5, 1, 1, 4, 5, 3, 3, 1, 2, 3, 4, 5, 6, 2, 6, 1, 2, 3, 4, 5, 6, 3, 2, 1, 1, 4, 6, 1, 2, 1, 4, 2, 1, 3, 5, 6, 1, 2, 3, 4, 5, 6, 1, 3, 5, 6, 5, 2, 3, 4, 5, 6], \"Freq\": [0.09153203724387762, 0.8237883351948986, 0.06102135816258508, 0.9872939529943142, 0.8414247538195054, 0.04352197002514683, 0.10155126339200927, 0.22702867816439318, 0.7621677052661772, 0.9355469406223097, 0.059715762167381475, 0.8535229177282955, 0.09353675810721046, 0.04676837905360523, 0.9815829364809582, 0.020936418738164674, 0.9630752619555749, 0.970153397137161, 0.9071797458490667, 0.054430784750944004, 0.018143594916981334, 0.7817231617312075, 0.21671533196508722, 0.9773212362268483, 0.015463148989910247, 0.9741783863643456, 0.10242714740175794, 0.06401696712609871, 0.025606786850439486, 0.793810392363624, 0.9812919989190003, 0.9787844328197131, 0.9878626369851723, 0.990399088794254, 0.9754453968166216, 0.9839918865559923, 0.7714441152303864, 0.14647673073994677, 0.07812092306130494, 0.1592675163375642, 0.020550647269363124, 0.11302855998149718, 0.03596363272138547, 0.6678960362543015, 0.977321504182826, 0.9785233813092282, 0.9840338057411424, 0.0384762624834044, 0.1269716661952345, 0.13081929244357496, 0.06540964622178748, 0.638705957224513, 0.9942321296327843, 0.9930226040209594, 0.9754272082312073, 0.9830053084457848, 0.7772724803105793, 0.03791573074685753, 0.06635252880700067, 0.12322612492728696, 0.05283627652124734, 0.33022672825779587, 0.6208262491246562, 0.990866164322993, 0.9329609776142778, 0.032735472898746586, 0.032735472898746586, 0.2171319299097958, 0.7452906783390287, 0.03521058322861553, 0.9895195764740863, 0.9959991821175971, 0.9791896179489943, 0.01587875056133504, 0.9831382740854423, 0.14103705311701298, 0.8462223187020779, 0.697008362455441, 0.29781266395823386, 0.2836603303157637, 0.7123026072373622, 0.9848389758342346, 0.011130773682646266, 0.9795080840728715, 0.017461920844829355, 0.9604056464656144, 0.9944044623935756, 0.9862352043261586, 0.9747947212841943, 0.10871278734701816, 0.14216287576148529, 0.03345008841446712, 0.7108143788074264, 0.9493673270044244, 0.055845136882613194, 0.9936273559788968, 0.8568790275462498, 0.12478820789508491, 0.016638427719344654, 0.986353771518986, 0.058013700560160426, 0.10635845102696077, 0.8315297080289661, 0.05437757925312941, 0.4644751561204804, 0.11102089097513922, 0.07476917147305294, 0.01132866234440196, 0.2854822910789294, 0.3643325287808394, 0.023890657624973076, 0.017917993218729805, 0.5853211118118403, 0.9818453482121016, 0.9700917036093624, 0.21961125209463322, 0.7724257832293996, 0.2270500811683475, 0.1613250576722469, 0.49592517728875896, 0.04780001708807315, 0.011950004272018288, 0.0537750192240823, 0.9896299397211514, 0.9444762258752538, 0.02031131668548933, 0.030466975028233995, 0.9942365294743275, 0.9245060478914613, 0.06764678399205815, 0.9892131535824703, 0.8788388943844508, 0.10985486179805636, 0.9047722291116621, 0.08225202082833291, 0.9830997562839431, 0.08829215370940215, 0.904994575521372, 0.13307188047752597, 0.8575743408551674, 0.9940595166996223, 0.8362344297596459, 0.01114979239679528, 0.02229958479359056, 0.12264771636474807, 0.9822328119575282, 0.9769817012753189, 0.815262401264961, 0.1645039860119209, 0.016934233854168326, 0.7177200594645629, 0.27418519125612517, 0.9567927340675991, 0.032433652002291494, 0.7551424162203583, 0.2412260496259478, 0.08804650171376466, 0.9098138510422348, 0.9941565600066081, 0.9850083107551265, 0.11906263989107099, 0.059531319945535496, 0.09354921705727007, 0.02551342283380093, 0.7058713650684924, 0.0923012389430308, 0.8922453097826312, 0.9872123329872028, 0.06313075697873759, 0.31039288847879315, 0.057869860563842794, 0.021043585659579197, 0.5418723307341643, 0.9848389876034295, 0.8717230515342923, 0.11175936558131952, 0.8561830268982601, 0.0597336995510414, 0.06968931614288164, 0.9382119702338698, 0.04467676048732713, 0.4762667852622276, 0.5204915581794344, 0.9884372584543387, 0.9892443509018565, 0.9885375105785164, 0.9868670145701698, 0.9730487613728983, 0.014460376878715412, 0.983305627752648, 0.9780724565471457, 0.995470292166589, 0.8949314632537144, 0.09943682925041272, 0.9767878806705141, 0.04571051405207375, 0.9446839570761909, 0.010058341316626411, 0.040233365266505644, 0.9052507184963771, 0.040233365266505644, 0.9963586881125944, 0.09743469894289278, 0.4089512716194655, 0.01372319703421025, 0.17153996292762813, 0.016467836441052302, 0.29230409682867836, 0.9316004188666327, 0.0653754679906409, 0.11582370501102655, 0.8759167691458883, 0.03942546096264002, 0.9462110631033605, 0.9894794711371981, 0.9803118282926754, 0.008307727358412504, 0.877409116615692, 0.10255431233170426, 0.011394923592411585, 0.6946757913981528, 0.13057815627784827, 0.041785010008911445, 0.13057815627784827, 0.5617715926352107, 0.1857470588551906, 0.013591248208916386, 0.05889540890530434, 0.17668622671591303, 0.012112243838196665, 0.9568672632175366, 0.02422448767639333, 0.03919347449405184, 0.6711882507106378, 0.0244959215587824, 0.03919347449405184, 0.014697552935269441, 0.21556410971728512, 0.9078108424659672, 0.05340063779211572, 0.9882390140072492, 0.986235102354385, 0.42376632791523167, 0.13733168034289917, 0.12556039345636494, 0.1765693032980132, 0.13733168034289917, 0.994156503095491, 0.9768040505733284, 0.9882394679470339, 0.9780729834238272, 0.15241798637161932, 0.021773998053088474, 0.7729769308846408, 0.05443499513272118, 0.3419112097082645, 0.15304597005988985, 0.022794080647217635, 0.41029345164991743, 0.0716385391769697, 0.12644486084608872, 0.21242736622142905, 0.12138706641224517, 0.5310684155535726, 0.010115588867687098, 0.9346471681825739, 0.020318416699621172, 0.040636833399242345, 0.9814631154404206, 0.8754870185931363, 0.11419395894693082, 0.01675313356591738, 0.050259400697752143, 0.9214223461254559, 0.9855607507612433, 0.9867082146034108, 0.009221572099097297, 0.9846942321859702, 0.497713431248224, 0.03828564855755569, 0.0701903556888521, 0.3892374270018162, 0.9971673259587782, 0.05822984874445053, 0.5737770461648296, 0.015622642346072094, 0.05396912810461269, 0.2982504447886491, 0.03631304353976606, 0.007262608707953212, 0.9405078276799409, 0.014525217415906424, 0.25344692767379534, 0.6854587362086737, 0.023040629788526848, 0.03456094468279027, 0.8149955824556591, 0.16779320815263568, 0.14276113702471094, 0.3903822242534131, 0.07959249232351141, 0.05558840733705559, 0.01895059341035986, 0.3133164777179497, 0.02512800589109111, 0.9423002209159166, 0.02512800589109111, 0.35360976942913197, 0.12523679333948426, 0.5193643488490376, 0.9775982585549463, 0.9759626834179551, 0.17223534414003852, 0.18300005314879092, 0.010764709008752408, 0.6297354770120158, 0.05124080569482371, 0.8198528911171794, 0.0717371279727532, 0.05124080569482371, 0.2925393231320304, 0.0849307712318798, 0.028310257077293264, 0.31141282785022595, 0.231200432797895, 0.051902137975037656, 0.12603236457280662, 0.09863402444828344, 0.027398340124523177, 0.08767468839847416, 0.5534464705153681, 0.10411369247318807, 0.8722866154037114, 0.12687805314963074, 0.04904949119485882, 0.5940438378044012, 0.02724971733047712, 0.08719909545752678, 0.23979751250819864, 0.20323375066938473, 0.46347208994115785, 0.017349222618118207, 0.06196150935042217, 0.06196150935042217, 0.19331990917331718, 0.04939590667750114, 0.9385222268725217, 0.033408730387714164, 0.17817989540114218, 0.011136243462571386, 0.7684007989174257, 0.9872940031349158, 0.9785237197276926, 0.1546448469370225, 0.029257133204301553, 0.016718361831029458, 0.756505872854083, 0.04179590457757364, 0.09112297516461802, 0.25704839262854934, 0.11424373005713304, 0.11424373005713304, 0.03672119894693562, 0.38625261114554504, 0.9711368217238915, 0.16675433657097827, 0.14452042502818116, 0.055584778856992756, 0.0222339115427971, 0.605874089541221, 0.9756865738150845, 0.9876199877761133, 0.9810289150071189, 0.9855608242438447, 0.06136592484959546, 0.9204888727439319, 0.9909437431839839, 0.075866125151558, 0.21314768494961533, 0.22037303020214466, 0.06141543464649933, 0.42629536989923067, 0.9855606751979983, 0.9880238079713072, 0.8917459502517413, 0.061926802100815366, 0.03715608126048922, 0.9785229722788472, 0.9178880197800695, 0.0161032985926328, 0.0644131943705312, 0.9518274252916513, 0.0402180602235909, 0.9813652836176094, 0.011823678115874812, 0.9880233013223348, 0.8913588562491224, 0.02256604699364867, 0.07898116447777034, 0.9755069119185436, 0.014780407756341568, 0.048220254440975094, 0.9402949615990144, 0.813796226666092, 0.17132552140338778, 0.988708729536998, 0.06747830047832341, 0.050608725358742564, 0.8772179062182044, 0.3082624070019731, 0.2901293242371512, 0.09066541382410974, 0.0725323310592878, 0.07512277145426235, 0.16060730448842298, 0.2302994792083325, 0.2841077687429896, 0.14851087911565367, 0.09255025799961025, 0.12268290013901824, 0.11837823697624567, 0.9790618032900628, 0.07734579016851442, 0.9023675519660016, 0.14953266303095983, 0.13562264786528916, 0.24342526539923695, 0.24690276919065463, 0.19474021231938957, 0.03477503791417671, 0.024831628025112375, 0.8815227948914893, 0.0993265121004495, 0.9823744620045399, 0.9867201406274636, 0.12268090934689395, 0.5225297990701039, 0.11359343458045736, 0.06361232336505612, 0.17720575794551346, 0.9887085733002613, 0.987295238270151, 0.1024756923392519, 0.1490555524934573, 0.7452777624672865, 0.980989468664206, 0.006530536900984125, 0.23379322105523165, 0.3043230195858602, 0.022203825463346025, 0.011754966421771424, 0.42056657642337764, 0.017070320385931145, 0.6828128154372458, 0.06828128154372458, 0.23044932521007047, 0.012153516231704978, 0.510447681731609, 0.03646054869511493, 0.44360334245723165, 0.9140934314377156, 0.0609395620958477, 0.28326241275648406, 0.3665748870966264, 0.3415811447945837, 0.9552571461080241, 0.02032462012995796, 0.9778121844615304, 0.045971368950431815, 0.832592570991154, 0.005107929883381313, 0.11237445743438888, 0.010260987390357934, 0.9747938020840038, 0.024275688917548086, 0.1699298224228366, 0.04551691672040266, 0.3034461114693511, 0.04551691672040266, 0.41268671159831744, 0.19457152847603412, 0.7897314979321385, 0.9855608847655605, 0.9651949771629684, 0.020108228690895173, 0.9677495044360471, 0.016129158407267453, 0.1432556663741829, 0.07776736174598502, 0.1064184950208216, 0.23330208523795504, 0.4379530372010735, 0.02095392395892185, 0.9638805021104052, 0.980037063312181, 0.012564577734771551, 0.9812764254317122, 0.9768041309373536, 0.99463255079784, 0.41693873958093675, 0.2153723290550534, 0.0911190622925226, 0.06350722523418242, 0.04694012299917831, 0.1684322060558751, 0.3036869769828288, 0.17520402518240125, 0.5217186527653725, 0.07040789300110259, 0.36178450209909113, 0.12351834516110384, 0.04750705583119379, 0.03313312611816592, 0.3634898835904673, 0.9945272427859951, 0.44299002797111453, 0.2813585312789511, 0.2035359587975391, 0.07183622075207262, 0.1635485394895484, 0.15594163067608102, 0.17115544830301577, 0.04183799847407052, 0.06846217932120631, 0.39936271270703677, 0.977219661924928, 0.015229061609750093, 0.9746599430240059, 0.24076059146759246, 0.06878874041931213, 0.034394370209656064, 0.12229109407877713, 0.53502353659465, 0.053992019056650464, 0.5360636177767439, 0.026996009528325232, 0.381800706186314, 0.9935094790113264, 0.022022220689834462, 0.9469554896628818, 0.8996354343048929, 0.07656471781318237, 0.9892258307640932, 0.06783116253569431, 0.34800335561790996, 0.2300361164253981, 0.09142461037419668, 0.26247710720333883, 0.855161723819029, 0.09943740974639871, 0.03977496389855949, 0.9924430616674961, 0.3935731890364876, 0.36420205552630197, 0.08811340053055693, 0.15272989425296535, 0.9810290761129834, 0.3599734898893995, 0.17875395902042096, 0.041914721425478016, 0.0036983577728362956, 0.4166816424062227, 0.9791977956954965, 0.02513771850465882, 0.9552333031770353, 0.9237606957482178, 0.061584046383214526, 0.9881410509194344, 0.9906834449271489, 0.17397443452639152, 0.15713819892706332, 0.07856909946353166, 0.3647851046521113, 0.044896628264875234, 0.17397443452639152, 0.07334787173060127, 0.8382613912068717, 0.09430440651077306, 0.11970014482226365, 0.885781071684751, 0.39096956040335595, 0.5864543406050339, 0.27078820030897544, 0.707058078584547, 0.01504378890605419, 0.07414645698891754, 0.05073178636083832, 0.03512200594211884, 0.058536676570198065, 0.7102450090517365, 0.07024401188423768, 0.19786093441673736, 0.008993678837124425, 0.782450058829825, 0.07231697944632433, 0.9160150729867748, 0.12005191076201036, 0.8703763530245751, 0.9754271288947857, 0.016336054186838343, 0.9638271970234622, 0.08685580372318122, 0.893373981152721, 0.01240797196045446, 0.5271870157456281, 0.4713672140784439, 0.9762677339558079, 0.9773216676756207, 0.06712087964040296, 0.6980571482601907, 0.23492307874141036, 0.07844786218902575, 0.8813848045943481, 0.03691664103012977, 0.9785230884073045, 0.6565535516021765, 0.33173232080952075, 0.01382218003373003, 0.022172939608089963, 0.598669369418429, 0.10716920810576816, 0.07760528862831487, 0.06282332888958823, 0.13303763764853976, 0.15917084736227755, 0.6101549148887306, 0.03537129941383946, 0.026528474560379593, 0.16801367221573743, 0.03942451403666381, 0.15769805614665525, 0.8016317854121642, 0.988239167084639, 0.12993306533162027, 0.04331102177720676, 0.8012539028783251, 0.02165551088860338, 0.4580624438348147, 0.006786110279034292, 0.23072774948716593, 0.2001902532315116, 0.10518470932503153, 0.9745356710235773, 0.9439164389219638, 0.04103984517052016, 0.9407234521308633, 0.052915694182361056, 0.06853960207213376, 0.5230653842347049, 0.104613076846941, 0.3030171881083808, 0.5668669773170941, 0.11521686530835247, 0.04147807151100689, 0.11982553992068656, 0.15669493681935937, 0.886477653035097, 0.08648562468635092, 0.10504592489824037, 0.42718676125284416, 0.08637109380521986, 0.035015308299413454, 0.03968401607266858, 0.30580035914821085, 0.04728262905466061, 0.4255436614919455, 0.09169964422722057, 0.06161069846516383, 0.3739626116141339, 0.14301954345359227, 0.33103399945438217, 0.1092733590431941, 0.07392021347039601, 0.059457563008796795, 0.28443212574478466, 0.9858892475265683, 0.9759624865366857, 0.05748239555314221, 0.8909771310737042, 0.05748239555314221, 0.026650009077189212, 0.9594003267788117, 0.8772620947702008, 0.1096577618462751, 0.07788014110046391, 0.915091657930451, 0.25201462450062234, 0.36980406856069586, 0.1123108652665817, 0.030132183364204847, 0.013696446983729476, 0.2218824411364175, 0.9878622677586388, 0.06947499638862847, 0.7503299609971874, 0.027789998555451386, 0.06252749674976563, 0.08336999566635415, 0.3485855950419758, 0.14524399793415657, 0.44154175371983595, 0.06390735909102889, 0.9632596263867815, 0.020940426660582205, 0.051588564764708016, 0.04299047063725668, 0.0945790354019647, 0.7996227538529742, 0.43885277052222377, 0.16203794603897492, 0.08873506568801008, 0.10995432052644728, 0.07619641510166084, 0.12442199427992719, 0.9701527558700004, 0.3184900071378507, 0.037157167499415916, 0.6422881810613322, 0.9872123909133661, 0.8558802594277657, 0.02445372169793616, 0.11004174764071273, 0.984269062636763, 0.9828794382304982, 0.1025186599253214, 0.48086133345924564, 0.12692786466944556, 0.04393656853942346, 0.02196828426971173, 0.22456468364594212, 0.8612127465098903, 0.13840919140337524, 0.09824570467846876, 0.3803872155499688, 0.08061186024900001, 0.11084130784237502, 0.010076482531125001, 0.32244744099600003, 0.9967034663491493, 0.9711369264301409, 0.988024014186533, 0.18606929559640356, 0.759782957018648, 0.05427021121561771, 0.8853461219705754, 0.11222697320753772, 0.9911804029841726, 0.9759628888780705, 0.9853775310904639, 0.09832561011728004, 0.2177209938311201, 0.03511628932760001, 0.6461397236278402, 0.3060798086781763, 0.3907401812912889, 0.04558635448398371, 0.03907401812912889, 0.07163569990340297, 0.14544217859175754, 0.14284351541739895, 0.07388457694003393, 0.3891254385508454, 0.39405107701351433, 0.9869808989866953, 0.5155880810191956, 0.1780006470185318, 0.24551813381866458, 0.030689766727333073, 0.0286437822788442], \"Term\": [\"1st\", \"1st\", \"1st\", \"3d\", \"advance\", \"advance\", \"advance\", \"aids\", \"aids\", \"air\", \"air\", \"american\", \"american\", \"american\", \"amiga\", \"anonymous\", \"anonymous\", \"apartment\", \"apple\", \"apple\", \"apple\", \"application\", \"application\", \"arab\", \"archive\", \"archive\", \"argument\", \"argument\", \"argument\", \"argument\", \"arm\", \"armenia\", \"armenian\", \"armenians\", \"atheism\", \"atheist\", \"attack\", \"attack\", \"attack\", \"available\", \"available\", \"available\", \"available\", \"available\", \"azerbaijan\", \"bbs\", \"belief\", \"believe\", \"believe\", \"believe\", \"believe\", \"believe\", \"bible\", \"bike\", \"binary\", \"bios\", \"board\", \"board\", \"board\", \"board\", \"book\", \"book\", \"book\", \"brake\", \"building\", \"building\", \"building\", \"buy\", \"buy\", \"buy\", \"cache\", \"car\", \"card\", \"card\", \"catholic\", \"cheap\", \"cheap\", \"child\", \"child\", \"chip\", \"chip\", \"christ\", \"christian\", \"christian\", \"christians\", \"christians\", \"church\", \"citizen\", \"civilian\", \"claim\", \"claim\", \"claim\", \"claim\", \"clinton\", \"clinton\", \"clipper\", \"color\", \"color\", \"color\", \"colormap\", \"com\", \"com\", \"com\", \"come\", \"come\", \"come\", \"come\", \"come\", \"come\", \"computer\", \"computer\", \"computer\", \"computer\", \"congress\", \"connector\", \"contact\", \"contact\", \"control\", \"control\", \"control\", \"control\", \"control\", \"control\", \"controller\", \"country\", \"country\", \"country\", \"crime\", \"crowd\", \"crowd\", \"cs\", \"cylinder\", \"cylinder\", \"damage\", \"damage\", \"database\", \"dealer\", \"dealer\", \"disease\", \"disease\", \"disk\", \"display\", \"display\", \"display\", \"display\", \"doctrine\", \"dog\", \"drive\", \"drive\", \"drive\", \"driver\", \"driver\", \"drug\", \"drug\", \"earth\", \"earth\", \"edu\", \"edu\", \"encryption\", \"engine\", \"exist\", \"exist\", \"exist\", \"exist\", \"exist\", \"expensive\", \"expensive\", \"external\", \"fact\", \"fact\", \"fact\", \"fact\", \"fact\", \"faith\", \"faq\", \"faq\", \"feature\", \"feature\", \"feature\", \"federal\", \"federal\", \"file\", \"file\", \"firearm\", \"floppy\", \"fluid\", \"flyer\", \"font\", \"ftp\", \"ftp\", \"fund\", \"game\", \"gas\", \"gas\", \"gay\", \"gm\", \"gm\", \"goal\", \"goal\", \"goal\", \"goal\", \"god\", \"good\", \"good\", \"good\", \"good\", \"good\", \"good\", \"government\", \"government\", \"graphic\", \"graphic\", \"graphics\", \"graphics\", \"greek\", \"gun\", \"gun\", \"guy\", \"guy\", \"guy\", \"happen\", \"happen\", \"happen\", \"happen\", \"hard\", \"hard\", \"hard\", \"hard\", \"hard\", \"health\", \"health\", \"health\", \"hear\", \"hear\", \"hear\", \"hear\", \"hear\", \"hear\", \"heat\", \"heat\", \"heaven\", \"helmet\", \"help\", \"help\", \"help\", \"help\", \"help\", \"hiv\", \"hockey\", \"homosexual\", \"hospital\", \"image\", \"image\", \"image\", \"image\", \"include\", \"include\", \"include\", \"include\", \"include\", \"information\", \"information\", \"information\", \"information\", \"information\", \"input\", \"input\", \"input\", \"insurance\", \"interface\", \"interface\", \"internet\", \"internet\", \"internet\", \"interpretation\", \"israel\", \"israel\", \"israeli\", \"issue\", \"issue\", \"issue\", \"issue\", \"jesus\", \"just\", \"just\", \"just\", \"just\", \"just\", \"key\", \"key\", \"key\", \"key\", \"kill\", \"kill\", \"kill\", \"kill\", \"king\", \"king\", \"know\", \"know\", \"know\", \"know\", \"know\", \"know\", \"launch\", \"launch\", \"launch\", \"law\", \"law\", \"law\", \"leafs\", \"league\", \"life\", \"life\", \"life\", \"life\", \"light\", \"light\", \"light\", \"light\", \"line\", \"line\", \"line\", \"line\", \"line\", \"line\", \"list\", \"list\", \"list\", \"list\", \"list\", \"list\", \"listen\", \"listen\", \"little\", \"little\", \"little\", \"little\", \"little\", \"look\", \"look\", \"look\", \"look\", \"look\", \"look\", \"lord\", \"lord\", \"love\", \"love\", \"love\", \"love\", \"lunar\", \"magi\", \"mail\", \"mail\", \"mail\", \"mail\", \"mail\", \"make\", \"make\", \"make\", \"make\", \"make\", \"make\", \"mamma\", \"man\", \"man\", \"man\", \"man\", \"man\", \"maria\", \"marriage\", \"mars\", \"mary\", \"matthew\", \"matthew\", \"mb\", \"mean\", \"mean\", \"mean\", \"mean\", \"mean\", \"meaning\", \"meg\", \"memory\", \"memory\", \"memory\", \"mil\", \"mile\", \"mile\", \"mile\", \"military\", \"military\", \"mission\", \"mission\", \"mm\", \"monitor\", \"monitor\", \"monitor\", \"moon\", \"moon\", \"moral\", \"moral\", \"mr\", \"mr\", \"nasa\", \"nature\", \"nature\", \"nature\", \"need\", \"need\", \"need\", \"need\", \"need\", \"need\", \"new\", \"new\", \"new\", \"new\", \"new\", \"new\", \"nhl\", \"nsa\", \"nsa\", \"number\", \"number\", \"number\", \"number\", \"number\", \"number\", \"object\", \"object\", \"object\", \"officer\", \"oil\", \"old\", \"old\", \"old\", \"old\", \"old\", \"orbit\", \"os\", \"package\", \"package\", \"package\", \"patient\", \"people\", \"people\", \"people\", \"people\", \"people\", \"people\", \"period\", \"period\", \"period\", \"period\", \"person\", \"person\", \"person\", \"person\", \"philadelphia\", \"philadelphia\", \"phone\", \"phone\", \"phone\", \"pin\", \"pin\", \"planet\", \"play\", \"play\", \"play\", \"play\", \"player\", \"player\", \"point\", \"point\", \"point\", \"point\", \"point\", \"point\", \"police\", \"police\", \"pope\", \"population\", \"population\", \"port\", \"port\", \"post\", \"post\", \"post\", \"post\", \"post\", \"pp\", \"pp\", \"president\", \"president\", \"printer\", \"privacy\", \"probe\", \"problem\", \"problem\", \"problem\", \"problem\", \"problem\", \"problem\", \"program\", \"program\", \"program\", \"pron\", \"pron\", \"pron\", \"pron\", \"pron\", \"pron\", \"pub\", \"public\", \"public\", \"public\", \"public\", \"question\", \"question\", \"question\", \"question\", \"question\", \"question\", \"ram\", \"ray\", \"ray\", \"read\", \"read\", \"read\", \"read\", \"read\", \"really\", \"really\", \"really\", \"really\", \"religion\", \"religious\", \"religious\", \"replace\", \"replace\", \"ride\", \"right\", \"right\", \"right\", \"right\", \"right\", \"road\", \"road\", \"road\", \"rom\", \"run\", \"run\", \"run\", \"run\", \"satellite\", \"say\", \"say\", \"say\", \"say\", \"say\", \"sci\", \"score\", \"score\", \"screen\", \"screen\", \"scsi\", \"season\", \"second\", \"second\", \"second\", \"second\", \"second\", \"second\", \"section\", \"section\", \"section\", \"secure\", \"secure\", \"security\", \"security\", \"sell\", \"sell\", \"sell\", \"send\", \"send\", \"send\", \"send\", \"send\", \"send\", \"server\", \"server\", \"server\", \"sex\", \"sex\", \"shot\", \"shot\", \"shuttle\", \"sin\", \"sin\", \"site\", \"site\", \"site\", \"software\", \"software\", \"solar\", \"soldier\", \"source\", \"source\", \"source\", \"space\", \"space\", \"space\", \"spacecraft\", \"speed\", \"speed\", \"speed\", \"start\", \"start\", \"start\", \"start\", \"start\", \"start\", \"state\", \"state\", \"state\", \"state\", \"state\", \"statement\", \"statement\", \"statement\", \"suck\", \"sun\", \"sun\", \"sun\", \"sun\", \"support\", \"support\", \"support\", \"support\", \"support\", \"tar\", \"tax\", \"tax\", \"team\", \"team\", \"tell\", \"tell\", \"tell\", \"tell\", \"thank\", \"thank\", \"thank\", \"thank\", \"thank\", \"thanks\", \"thanks\", \"thing\", \"thing\", \"thing\", \"thing\", \"thing\", \"thing\", \"think\", \"think\", \"think\", \"think\", \"think\", \"time\", \"time\", \"time\", \"time\", \"time\", \"time\", \"tire\", \"tor\", \"toronto\", \"toronto\", \"toronto\", \"tradition\", \"tradition\", \"traffic\", \"traffic\", \"truth\", \"truth\", \"try\", \"try\", \"try\", \"try\", \"try\", \"try\", \"turkish\", \"turn\", \"turn\", \"turn\", \"turn\", \"turn\", \"type\", \"type\", \"type\", \"type\", \"uk\", \"uk\", \"university\", \"university\", \"university\", \"university\", \"use\", \"use\", \"use\", \"use\", \"use\", \"use\", \"vehicle\", \"version\", \"version\", \"version\", \"vga\", \"video\", \"video\", \"video\", \"village\", \"vote\", \"want\", \"want\", \"want\", \"want\", \"want\", \"want\", \"water\", \"water\", \"way\", \"way\", \"way\", \"way\", \"way\", \"way\", \"weapon\", \"wheel\", \"widget\", \"win\", \"win\", \"win\", \"window\", \"window\", \"windows\", \"winner\", \"wire\", \"word\", \"word\", \"word\", \"word\", \"work\", \"work\", \"work\", \"work\", \"work\", \"work\", \"write\", \"write\", \"write\", \"write\", \"xfree86\", \"year\", \"year\", \"year\", \"year\", \"year\"]}, \"R\": 30, \"lambda.step\": 0.01, \"plot.opts\": {\"xlab\": \"Dim 1\", \"ylab\": \"Dim 2\"}, \"topic.order\": [1, 2, 3, 4, 5, 6]};\n",
       "\n",
       "function LDAvis_load_lib(url, callback){\n",
       "  var s = document.createElement('script');\n",
       "  s.src = url;\n",
       "  s.async = true;\n",
       "  s.onreadystatechange = s.onload = callback;\n",
       "  s.onerror = function(){console.warn(\"failed to load library \" + url);};\n",
       "  document.getElementsByTagName(\"head\")[0].appendChild(s);\n",
       "}\n",
       "\n",
       "if(typeof(LDAvis) !== \"undefined\"){\n",
       "   // already loaded: just create the visualization\n",
       "   !function(LDAvis){\n",
       "       new LDAvis(\"#\" + \"ldavis_el260311397494038966568557527461\", ldavis_el260311397494038966568557527461_data);\n",
       "   }(LDAvis);\n",
       "}else if(typeof define === \"function\" && define.amd){\n",
       "   // require.js is available: use it to load d3/LDAvis\n",
       "   require.config({paths: {d3: \"https://cdnjs.cloudflare.com/ajax/libs/d3/3.5.5/d3.min\"}});\n",
       "   require([\"d3\"], function(d3){\n",
       "      window.d3 = d3;\n",
       "      LDAvis_load_lib(\"https://cdn.rawgit.com/bmabey/pyLDAvis/files/ldavis.v1.0.0.js\", function(){\n",
       "        new LDAvis(\"#\" + \"ldavis_el260311397494038966568557527461\", ldavis_el260311397494038966568557527461_data);\n",
       "      });\n",
       "    });\n",
       "}else{\n",
       "    // require.js not available: dynamically load d3 & LDAvis\n",
       "    LDAvis_load_lib(\"https://cdnjs.cloudflare.com/ajax/libs/d3/3.5.5/d3.min.js\", function(){\n",
       "         LDAvis_load_lib(\"https://cdn.rawgit.com/bmabey/pyLDAvis/files/ldavis.v1.0.0.js\", function(){\n",
       "                 new LDAvis(\"#\" + \"ldavis_el260311397494038966568557527461\", ldavis_el260311397494038966568557527461_data);\n",
       "            })\n",
       "         });\n",
       "}\n",
       "</script>"
      ],
      "text/plain": [
       "<IPython.core.display.HTML object>"
      ]
     },
     "execution_count": 18,
     "metadata": {},
     "output_type": "execute_result"
    }
   ],
   "source": [
    "import pyLDAvis\n",
    "import pyLDAvis.sklearn as sklearn_lda\n",
    "\n",
    "lda_vis_prepared = sklearn_lda.prepare(lda_model, count_vectors, count_vectorizer, sort_topics=False, mds='tsne', plot_opts={'xlab': 'Dim 1', 'ylab': 'Dim 2'})\n",
    "\n",
    "pyLDAvis.display(lda_vis_prepared)"
   ]
  },
  {
   "cell_type": "code",
   "execution_count": 19,
   "metadata": {},
   "outputs": [],
   "source": [
    "from gensim.summarization import summarizer\n",
    "from gensim.summarization import textcleaner"
   ]
  },
  {
   "cell_type": "code",
   "execution_count": 20,
   "metadata": {},
   "outputs": [],
   "source": [
    "summary_output_filename = 'out/summaries.txt'"
   ]
  },
  {
   "cell_type": "code",
   "execution_count": 29,
   "metadata": {},
   "outputs": [],
   "source": [
    "summary_word_count = 300\n",
    "max_text_wc = 500\n",
    "min_topic_score = 0.5\n",
    "top_n_text = 50\n",
    "n_top_words = 30"
   ]
  },
  {
   "cell_type": "code",
   "execution_count": 38,
   "metadata": {},
   "outputs": [],
   "source": [
    "with open(summary_output_filename, 'wt') as f:\n",
    "    content_label = 'text'\n",
    "    for topic_idx_0, topic in enumerate(lda_model.components_):\n",
    "        topic_idx = topic_idx_0 + 1\n",
    "        print(f'Topic #{topic_idx}: ', file=f)\n",
    "\n",
    "        topic_words = ' '.join(\n",
    "            [feature_names[i] for i in topic.argsort()[:-n_top_words-1:-1]]\n",
    "        )\n",
    "        print(f'Top words: {topic_words}', file=f)\n",
    "\n",
    "        topic_data = results.query(f'Topic == {topic_idx}')\n",
    "        topic_top_data = topic_data[\n",
    "            (topic_data[f'Score Topic {topic_idx}'] > min_topic_score)\n",
    "            &\n",
    "            (topic_data['Word length'] < max_text_wc)\n",
    "        ]\n",
    "        topic_top_n_data = topic_top_data.sort_values(f'Score Topic {topic_idx}', ascending=False)[:top_n_text]\n",
    "\n",
    "        topic_all_text = '\\n'.join(topic_data[content_label])\n",
    "        topic_top_n_text = '\\n'.join(topic_top_n_data[content_label])\n",
    "\n",
    "        topic_top_n_sentences = pd.Series(textcleaner.get_sentences(topic_top_n_text)).drop_duplicates()\n",
    "        topic_top_n_sentences_text = '\\n'.join(topic_top_n_sentences)\n",
    "\n",
    "        print(f'Text length: {topic_data.shape[0]} instances, {len(topic_all_text)} chars, {len(topic_all_text.split())} words', file=f)\n",
    "\n",
    "        topic_summary = summarizer.summarize(topic_top_n_text, word_count=summary_word_count)\n",
    "        print(f'Summary length: {len(topic_summary)} chars, {len(topic_summary.split())} words', file=f)\n",
    "        print('', file=f)\n",
    "        print(topic_summary, file=f)\n",
    "        print('-'*13, file=f)"
   ]
  },
  {
   "cell_type": "code",
   "execution_count": null,
   "metadata": {},
   "outputs": [],
   "source": [
    "with open(summary_output_filename, ') as f:"
   ]
  }
 ],
 "metadata": {
  "kernelspec": {
   "display_name": "Python 3",
   "language": "python",
   "name": "python3"
  },
  "language_info": {
   "codemirror_mode": {
    "name": "ipython",
    "version": 3
   },
   "file_extension": ".py",
   "mimetype": "text/x-python",
   "name": "python",
   "nbconvert_exporter": "python",
   "pygments_lexer": "ipython3",
   "version": "3.7.5"
  }
 },
 "nbformat": 4,
 "nbformat_minor": 4
}
